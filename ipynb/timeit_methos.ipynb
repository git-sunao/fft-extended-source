{
 "cells": [
  {
   "cell_type": "code",
   "execution_count": 1,
   "metadata": {},
   "outputs": [],
   "source": [
    "%load_ext autoreload\n",
    "%autoreload 2"
   ]
  },
  {
   "cell_type": "code",
   "execution_count": 2,
   "metadata": {},
   "outputs": [],
   "source": [
    "# Set path\n",
    "import sys, os\n",
    "sys.path.append(os.path.dirname(os.getcwd()))\n",
    "\n",
    "import numpy as np\n",
    "import matplotlib.pyplot as plt\n",
    "import fastlens\n",
    "import python\n",
    "import timeit"
   ]
  },
  {
   "cell_type": "code",
   "execution_count": 3,
   "metadata": {},
   "outputs": [],
   "source": [
    "rho = 1e-1\n",
    "u = np.logspace(-6, 2, 200)"
   ]
  },
  {
   "cell_type": "markdown",
   "metadata": {},
   "source": [
    "## FFT based method"
   ]
  },
  {
   "cell_type": "markdown",
   "metadata": {},
   "source": [
    "### extended soruce"
   ]
  },
  {
   "cell_type": "code",
   "execution_count": 4,
   "metadata": {},
   "outputs": [],
   "source": [
    "mag_disk = fastlens.mag_fft.magnification_disk()\n",
    "mag_limb1= fastlens.mag_fft.magnification_limb(1)\n",
    "mag_limb2= fastlens.mag_fft.magnification_limb(2)"
   ]
  },
  {
   "cell_type": "code",
   "execution_count": 5,
   "metadata": {},
   "outputs": [
    {
     "name": "stdout",
     "output_type": "stream",
     "text": [
      "1.291595763002988 msec\n"
     ]
    }
   ],
   "source": [
    "def func():\n",
    "    mag_limb1.A(u.copy(), rho)\n",
    "Ncall = 1000\n",
    "ans = timeit.timeit(func, number=Ncall)/Ncall\n",
    "print(f'{ans*1000} msec')"
   ]
  },
  {
   "cell_type": "markdown",
   "metadata": {},
   "source": [
    "### exposure time ave"
   ]
  },
  {
   "cell_type": "code",
   "execution_count": 6,
   "metadata": {},
   "outputs": [
    {
     "name": "stdout",
     "output_type": "stream",
     "text": [
      "1.1298675699799787 msec\n"
     ]
    }
   ],
   "source": [
    "umin = 0.1\n",
    "tE = 100\n",
    "t0 = 10.\n",
    "rho = 0.1\n",
    "\n",
    "n = 5\n",
    "t = np.linspace(t0-n*tE, t0+n*tE, 2048) # This grid size guarantees accuracy of 0.3%\n",
    "u = (umin*2+(t-t0)**2/tE**2)**0.5\n",
    "\n",
    "a = mag_disk.A(u.copy(), rho)\n",
    "\n",
    "dt = 100.0\n",
    "\n",
    "def func():\n",
    "    a_bar = fastlens.timeave.timeave(t, a, dt, N_pad=100)\n",
    "\n",
    "Ncall = 100\n",
    "ans = timeit.timeit(func, number=Ncall)/Ncall\n",
    "print(f'{ans*1000} msec')"
   ]
  },
  {
   "cell_type": "markdown",
   "metadata": {},
   "source": [
    "## Lee et al. (2009): (int. val. centering lens)"
   ]
  },
  {
   "cell_type": "code",
   "execution_count": 7,
   "metadata": {},
   "outputs": [],
   "source": [
    "def func():\n",
    "    python.mag_lee.A_limb(u.copy(), rho, n1=200, n2=200, order=1)\n",
    "Ncall = 10\n",
    "ans = timeit.timeit(func, number=Ncall)/Ncall\n",
    "print(f'{ans*1000} msec')"
   ]
  },
  {
   "cell_type": "markdown",
   "metadata": {},
   "source": [
    "## Witt & Atrio-Barandela (2019): Taylor expansion"
   ]
  },
  {
   "cell_type": "code",
   "execution_count": null,
   "metadata": {},
   "outputs": [
    {
     "name": "stdout",
     "output_type": "stream",
     "text": [
      "4319.400959700579 msec\n"
     ]
    }
   ],
   "source": [
    "def func():\n",
    "    python.mag_wb.A_limb(u.copy(), rho)\n",
    "Ncall = 10\n",
    "ans = timeit.timeit(func, number=Ncall)/Ncall\n",
    "print(f'{ans*1000} msec')"
   ]
  },
  {
   "cell_type": "markdown",
   "metadata": {},
   "source": [
    "## Gould (1994), Yoo et al.(2004): factorizing"
   ]
  },
  {
   "cell_type": "code",
   "execution_count": null,
   "metadata": {},
   "outputs": [
    {
     "name": "stdout",
     "output_type": "stream",
     "text": [
      "1.5840804799518082 msec\n"
     ]
    }
   ],
   "source": [
    "def func():\n",
    "    python.mag_yoo.A_limb(u.copy(), rho)\n",
    "Ncall = 100\n",
    "ans = timeit.timeit(func, number=Ncall)/Ncall\n",
    "print(f'{ans*1000} msec')"
   ]
  },
  {
   "cell_type": "code",
   "execution_count": null,
   "metadata": {},
   "outputs": [],
   "source": []
  }
 ],
 "metadata": {
  "kernelspec": {
   "display_name": "Python 3 (ipykernel)",
   "language": "python",
   "name": "python3"
  },
  "language_info": {
   "codemirror_mode": {
    "name": "ipython",
    "version": 3
   },
   "file_extension": ".py",
   "mimetype": "text/x-python",
   "name": "python",
   "nbconvert_exporter": "python",
   "pygments_lexer": "ipython3",
   "version": "3.12.1"
  }
 },
 "nbformat": 4,
 "nbformat_minor": 4
}
