{
 "cells": [
  {
   "cell_type": "code",
   "execution_count": 1,
   "metadata": {},
   "outputs": [
    {
     "name": "stdout",
     "output_type": "stream",
     "text": [
      "%pylab is deprecated, use %matplotlib inline and import the required libraries.\n",
      "Populating the interactive namespace from numpy and matplotlib\n"
     ]
    }
   ],
   "source": [
    "%load_ext autoreload\n",
    "%autoreload 2\n",
    "%pylab inline"
   ]
  },
  {
   "cell_type": "code",
   "execution_count": 2,
   "metadata": {},
   "outputs": [],
   "source": [
    "import numpy as np\n",
    "import matplotlib.pyplot as plt\n",
    "import magnification\n",
    "import timeit\n",
    "import testdata"
   ]
  },
  {
   "cell_type": "code",
   "execution_count": 3,
   "metadata": {},
   "outputs": [],
   "source": [
    "plt.rcParams['font.family'] = 'serif'# 'sans-serif'\n",
    "plt.rcParams['font.serif'] = \"STIXGeneral\"\n",
    "plt.rcParams['axes.linewidth'] = 1.5\n",
    "plt.rcParams['xtick.top'] = True\n",
    "plt.rcParams['xtick.minor.visible'] = True\n",
    "plt.rcParams['ytick.minor.visible'] = True\n",
    "plt.rcParams['xtick.direction'] = 'in'\n",
    "plt.rcParams['ytick.direction'] = 'in'\n",
    "plt.rc(\"text\",usetex=True)\n",
    "plt.rc(\"font\",family=\"serif\")\n",
    "plt.rc(\"font\",serif=\"STIXGeneral\")"
   ]
  },
  {
   "cell_type": "code",
   "execution_count": 4,
   "metadata": {},
   "outputs": [],
   "source": [
    "u, rho, a_true = testdata.get_test_data('testdata/limb_1e-1.txt')"
   ]
  },
  {
   "cell_type": "markdown",
   "metadata": {},
   "source": [
    "## FFT based method"
   ]
  },
  {
   "cell_type": "markdown",
   "metadata": {},
   "source": [
    "### extended soruce"
   ]
  },
  {
   "cell_type": "code",
   "execution_count": 5,
   "metadata": {},
   "outputs": [],
   "source": [
    "mag = magnification.mag_fft.magnification(profile_names=['disk', 'limb1', 'limb2'])"
   ]
  },
  {
   "cell_type": "code",
   "execution_count": 6,
   "metadata": {},
   "outputs": [
    {
     "name": "stdout",
     "output_type": "stream",
     "text": [
      "1.2978581879287958 msec\n"
     ]
    }
   ],
   "source": [
    "def func():\n",
    "    mag.A_limb1(u.copy(), rho)\n",
    "Ncall = 1000\n",
    "ans = timeit.timeit(func, number=Ncall)/Ncall\n",
    "print(f'{ans*1000} msec')"
   ]
  },
  {
   "cell_type": "markdown",
   "metadata": {},
   "source": [
    "### exposure time ave"
   ]
  },
  {
   "cell_type": "code",
   "execution_count": 7,
   "metadata": {},
   "outputs": [
    {
     "name": "stdout",
     "output_type": "stream",
     "text": [
      "0.8705750899389386 msec\n"
     ]
    }
   ],
   "source": [
    "umin = 0.1\n",
    "tE = 100\n",
    "t0 = 10.\n",
    "rho = 0.1\n",
    "\n",
    "n = 5\n",
    "t = np.linspace(t0-n*tE, t0+n*tE, 2048) # This grid size guarantees accuracy of 0.3%\n",
    "u = (umin*2+(t-t0)**2/tE**2)**0.5\n",
    "\n",
    "mag = magnification.mag_fft.magnification(profile_names=['disk'])\n",
    "a = mag.A_disk(u.copy(), rho)\n",
    "\n",
    "dt = 100.0\n",
    "\n",
    "def func():\n",
    "    a_bar = magnification.timeave.timeave(t, a, dt, N_pad=100)\n",
    "\n",
    "Ncall = 100\n",
    "ans = timeit.timeit(func, number=Ncall)/Ncall\n",
    "print(f'{ans*1000} msec')"
   ]
  },
  {
   "cell_type": "markdown",
   "metadata": {},
   "source": [
    "## Lee et al. (2009): (int. val. centering lens)"
   ]
  },
  {
   "cell_type": "code",
   "execution_count": 8,
   "metadata": {},
   "outputs": [
    {
     "name": "stdout",
     "output_type": "stream",
     "text": [
      "5185.447974400595 msec\n"
     ]
    }
   ],
   "source": [
    "def func():\n",
    "    magnification.mag_lee.A_limb(u.copy(), rho, n1=200, n2=200, order=1)\n",
    "Ncall = 100\n",
    "ans = timeit.timeit(func, number=Ncall)/Ncall\n",
    "print(f'{ans*1000} msec')"
   ]
  },
  {
   "cell_type": "markdown",
   "metadata": {},
   "source": [
    "## Witt & Atrio-Barandela (2019): Taylor expansion"
   ]
  },
  {
   "cell_type": "code",
   "execution_count": 9,
   "metadata": {},
   "outputs": [
    {
     "name": "stdout",
     "output_type": "stream",
     "text": [
      "4918.351628009696 msec\n"
     ]
    }
   ],
   "source": [
    "def func():\n",
    "    magnification.mag_wb.A_limb(u.copy(), rho)\n",
    "Ncall = 100\n",
    "ans = timeit.timeit(func, number=Ncall)/Ncall\n",
    "print(f'{ans*1000} msec')"
   ]
  },
  {
   "cell_type": "markdown",
   "metadata": {},
   "source": [
    "## Gould (1994), Yoo et al.(2004): factorizing"
   ]
  },
  {
   "cell_type": "code",
   "execution_count": 10,
   "metadata": {},
   "outputs": [
    {
     "name": "stdout",
     "output_type": "stream",
     "text": [
      "1.121646708343178 msec\n"
     ]
    }
   ],
   "source": [
    "def func():\n",
    "    magnification.mag_yoo.A_limb(u.copy(), rho)\n",
    "Ncall = 100\n",
    "ans = timeit.timeit(func, number=Ncall)/Ncall\n",
    "print(f'{ans*1000} msec')"
   ]
  },
  {
   "cell_type": "code",
   "execution_count": null,
   "metadata": {},
   "outputs": [],
   "source": []
  }
 ],
 "metadata": {
  "kernelspec": {
   "display_name": "Python 3 (ipykernel)",
   "language": "python",
   "name": "python3"
  },
  "language_info": {
   "codemirror_mode": {
    "name": "ipython",
    "version": 3
   },
   "file_extension": ".py",
   "mimetype": "text/x-python",
   "name": "python",
   "nbconvert_exporter": "python",
   "pygments_lexer": "ipython3",
   "version": "3.10.10"
  }
 },
 "nbformat": 4,
 "nbformat_minor": 4
}
